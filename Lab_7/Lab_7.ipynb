{
 "cells": [
  {
   "cell_type": "markdown",
   "source": [
    "<h1>Akylbek Bolsunbekov WIN-1-21</h1>\n",
    "<h3>Лабораторная работа 7\n",
    "Работа с текстовыми данными.</h3>\n",
    "<h5>Цель работы: Изучить методы работы с текстовыми данными, применить их для анализа текстовых наборов...</h5>"
   ],
   "metadata": {
    "collapsed": false
   },
   "id": "bf3cf3e37c9afb9c"
  },
  {
   "cell_type": "code",
   "execution_count": 471,
   "outputs": [
    {
     "name": "stdout",
     "output_type": "stream",
     "text": [
      "Тип текста <class 'list'>\n",
      "Длина текста 50\n",
      "text_train[5]:Ужасное обслуживание клиентов. Они не реагировали на мои запросы.\n"
     ]
    }
   ],
   "source": [
    "from sklearn.feature_extraction.text import CountVectorizer\n",
    "reviews = [\n",
    "    \"Продукт превзошел мои ожидания. Очень рекомендую!\",\n",
    "    \"Плохое качество и переоценено. Не стоит своих денег.\",\n",
    "    \"Фантастическое обслуживание и молниеносная доставка.\",\n",
    "    \"Разочаровывающий опыт. Товар не соответствовал описанию.\",\n",
    "    \"Я в восторге от этого продукта! Удивительное качество и дизайн.\",\n",
    "    \"Ужасное обслуживание клиентов. Они не реагировали на мои запросы.\",\n",
    "    \"Отличное соотношение цены и качества. Я довольный клиент.\",\n",
    "    \"Доставка заняла больше времени, чем ожидалось, но продукт хороший.\",\n",
    "    \"Худшая покупка! Сожалею, что купил это.\",\n",
    "    \"Команда поддержки клиентов была полезной и быстро решила мою проблему.\",\n",
    "    \"Впечатляющий продукт. Это сделало мою жизнь намного проще.\",\n",
    "    \"Я бы не рекомендовал этот продукт никому. Очень разочарован.\",\n",
    "    \"Быстрая доставка, и продукт был именно таким, как описано.\",\n",
    "    \"Абсолютно ужасно! Продукт сломался через неделю использования.\",\n",
    "    \"Выдающееся качество. Я обязательно вернусь как клиент.\",\n",
    "    \"Инструкции были неясными, что сделало сборку трудной.\",\n",
    "    \"Исключительное обслуживание клиентов. Они вышли за рамки, чтобы мне помочь.\",\n",
    "    \"Не доволен покупкой. Товар пришел поврежденным.\",\n",
    "    \"Очень доволен своим заказом. Буду покупать у них снова.\",\n",
    "    \"Избегайте во всех отношениях! Продукт - полная трата денег.\",\n",
    "    \"Отличный продукт! Спасибо, что сделали такой качественный товар.\",\n",
    "    \"Плохое качество изделия и никакого ответа от службы поддержки.\",\n",
    "    \"Доставили вовремя, и продукт полностью соответствует описанию.\",\n",
    "    \"Удивительное обслуживание. Очень отзывчивая команда поддержки.\",\n",
    "    \"Продукт не соответствует моим ожиданиям. Очень разочарован.\",\n",
    "    \"Быстрая доставка и отличное качество товара. Спасибо!\",\n",
    "    \"Ужасный опыт. Товар пришел с дефектом и неисправностью.\",\n",
    "    \"Продукт просто великолепен! Рекомендую всем.\",\n",
    "    \"Не стоит потраченных денег. Качество оставляет желать лучшего.\",\n",
    "    \"Покупка была успешной. Очень доволен своим выбором.\",\n",
    "    \"Продукт пришел вовремя, и он выглядит так, как описано.\",\n",
    "    \"Отвратительное обслуживание. Никто не отвечает на мои вопросы.\",\n",
    "    \"Продукт соответствует ожиданиям. Спасибо за быструю доставку.\",\n",
    "    \"Потрясающий продукт! Я в восторге от качества.\",\n",
    "    \"Плохой опыт покупки. Товар пришел поврежденным и неисправным.\",\n",
    "    \"Очень низкое качество. Не рекомендую этот продукт.\",\n",
    "    \"Хорошее соотношение цены и качества. Рекомендую для покупки.\",\n",
    "    \"Замечательное обслуживание клиентов. Быстро решают все вопросы.\",\n",
    "    \"Продукт не оправдал моих ожиданий. Не рекомендую.\",\n",
    "    \"Приятно удивлен качеством товара. Рекомендую к покупке.\",\n",
    "    \"Проблемы с доставкой, но продукт оправдал ожидания.\",\n",
    "    \"Ужасное обслуживание. Никто не отвечает на звонки и письма.\",\n",
    "    \"Продукт просто отличный! Я в восторге от его функционала.\",\n",
    "    \"Никогда больше не куплю у этой компании. Ужасный опыт.\",\n",
    "    \"Быстрая доставка и качественный товар. Очень доволен.\",\n",
    "    \"Плохой продукт. Не соответствует описанию и изображениям.\",\n",
    "    \"Замечательное обслуживание. Всегда готовы помочь и ответить на вопросы.\",\n",
    "    \"Продукт не работает. Полная трата времени и денег.\",\n",
    "    \"Отличное качество товара. Буду заказывать еще.\",\n",
    "    \"Ужасный опыт обслуживания клиентов. Никто не решает проблемы.\",\n",
    "]\n",
    "\n",
    "\n",
    "target = [1, 0, 1, 0, 1, 0, 1, 1, 0, 1, 1, 0, 1, 0, 1, 0, 1, 0, 1, 0,\n",
    "          1, 1, 0, 1, 1, 0, 1, 0, 1, 0, 1, 0, 1, 0, 1, 0, 1, 0, 1, 0,\n",
    "          1, 0, 1, 0, 1, 0, 1, 0, 1, 0]\n",
    "text_train, y_train = reviews, target\n",
    "\n",
    "print('Тип текста {}'.format(type(text_train)))\n",
    "print('Длина текста {}'.format(len(text_train)))\n",
    "print(\"text_train[5]:{}\".format(reviews[5]))\n"
   ],
   "metadata": {
    "collapsed": false,
    "ExecuteTime": {
     "end_time": "2023-12-15T10:46:49.181320Z",
     "start_time": "2023-12-15T10:46:49.061719Z"
    }
   },
   "id": "ae24dd2a5fe023eb"
  },
  {
   "cell_type": "code",
   "execution_count": 472,
   "outputs": [
    {
     "name": "stdout",
     "output_type": "stream",
     "text": [
      "text_train[5] Ужасное обслуживание клиентов. Они не реагировали на мои запросы.\n"
     ]
    }
   ],
   "source": [
    "text_test = [doc.replace(\"<br />\", \" \") for doc in text_train]\n",
    "print(\"text_train[5] {}\".format(text_train[5]))"
   ],
   "metadata": {
    "collapsed": false,
    "ExecuteTime": {
     "end_time": "2023-12-15T10:46:49.181566Z",
     "start_time": "2023-12-15T10:46:49.067439Z"
    }
   },
   "id": "3321b64bdcf0c76"
  },
  {
   "cell_type": "code",
   "execution_count": 473,
   "outputs": [
    {
     "data": {
      "text/plain": "array([0, 1])"
     },
     "execution_count": 473,
     "metadata": {},
     "output_type": "execute_result"
    }
   ],
   "source": [
    "import numpy as np\n",
    "np.unique(y_train)"
   ],
   "metadata": {
    "collapsed": false,
    "ExecuteTime": {
     "end_time": "2023-12-15T10:46:49.181944Z",
     "start_time": "2023-12-15T10:46:49.071122Z"
    }
   },
   "id": "2838b5d1a59026f1"
  },
  {
   "cell_type": "code",
   "execution_count": 474,
   "outputs": [
    {
     "name": "stdout",
     "output_type": "stream",
     "text": [
      "[23 27]\n"
     ]
    }
   ],
   "source": [
    "print(np.bincount(y_train))"
   ],
   "metadata": {
    "collapsed": false,
    "ExecuteTime": {
     "end_time": "2023-12-15T10:46:49.182943Z",
     "start_time": "2023-12-15T10:46:49.083336Z"
    }
   },
   "id": "deee243462a32bf7"
  },
  {
   "cell_type": "code",
   "execution_count": 475,
   "outputs": [
    {
     "data": {
      "text/plain": "CountVectorizer()",
      "text/html": "<style>#sk-container-id-27 {color: black;}#sk-container-id-27 pre{padding: 0;}#sk-container-id-27 div.sk-toggleable {background-color: white;}#sk-container-id-27 label.sk-toggleable__label {cursor: pointer;display: block;width: 100%;margin-bottom: 0;padding: 0.3em;box-sizing: border-box;text-align: center;}#sk-container-id-27 label.sk-toggleable__label-arrow:before {content: \"▸\";float: left;margin-right: 0.25em;color: #696969;}#sk-container-id-27 label.sk-toggleable__label-arrow:hover:before {color: black;}#sk-container-id-27 div.sk-estimator:hover label.sk-toggleable__label-arrow:before {color: black;}#sk-container-id-27 div.sk-toggleable__content {max-height: 0;max-width: 0;overflow: hidden;text-align: left;background-color: #f0f8ff;}#sk-container-id-27 div.sk-toggleable__content pre {margin: 0.2em;color: black;border-radius: 0.25em;background-color: #f0f8ff;}#sk-container-id-27 input.sk-toggleable__control:checked~div.sk-toggleable__content {max-height: 200px;max-width: 100%;overflow: auto;}#sk-container-id-27 input.sk-toggleable__control:checked~label.sk-toggleable__label-arrow:before {content: \"▾\";}#sk-container-id-27 div.sk-estimator input.sk-toggleable__control:checked~label.sk-toggleable__label {background-color: #d4ebff;}#sk-container-id-27 div.sk-label input.sk-toggleable__control:checked~label.sk-toggleable__label {background-color: #d4ebff;}#sk-container-id-27 input.sk-hidden--visually {border: 0;clip: rect(1px 1px 1px 1px);clip: rect(1px, 1px, 1px, 1px);height: 1px;margin: -1px;overflow: hidden;padding: 0;position: absolute;width: 1px;}#sk-container-id-27 div.sk-estimator {font-family: monospace;background-color: #f0f8ff;border: 1px dotted black;border-radius: 0.25em;box-sizing: border-box;margin-bottom: 0.5em;}#sk-container-id-27 div.sk-estimator:hover {background-color: #d4ebff;}#sk-container-id-27 div.sk-parallel-item::after {content: \"\";width: 100%;border-bottom: 1px solid gray;flex-grow: 1;}#sk-container-id-27 div.sk-label:hover label.sk-toggleable__label {background-color: #d4ebff;}#sk-container-id-27 div.sk-serial::before {content: \"\";position: absolute;border-left: 1px solid gray;box-sizing: border-box;top: 0;bottom: 0;left: 50%;z-index: 0;}#sk-container-id-27 div.sk-serial {display: flex;flex-direction: column;align-items: center;background-color: white;padding-right: 0.2em;padding-left: 0.2em;position: relative;}#sk-container-id-27 div.sk-item {position: relative;z-index: 1;}#sk-container-id-27 div.sk-parallel {display: flex;align-items: stretch;justify-content: center;background-color: white;position: relative;}#sk-container-id-27 div.sk-item::before, #sk-container-id-27 div.sk-parallel-item::before {content: \"\";position: absolute;border-left: 1px solid gray;box-sizing: border-box;top: 0;bottom: 0;left: 50%;z-index: -1;}#sk-container-id-27 div.sk-parallel-item {display: flex;flex-direction: column;z-index: 1;position: relative;background-color: white;}#sk-container-id-27 div.sk-parallel-item:first-child::after {align-self: flex-end;width: 50%;}#sk-container-id-27 div.sk-parallel-item:last-child::after {align-self: flex-start;width: 50%;}#sk-container-id-27 div.sk-parallel-item:only-child::after {width: 0;}#sk-container-id-27 div.sk-dashed-wrapped {border: 1px dashed gray;margin: 0 0.4em 0.5em 0.4em;box-sizing: border-box;padding-bottom: 0.4em;background-color: white;}#sk-container-id-27 div.sk-label label {font-family: monospace;font-weight: bold;display: inline-block;line-height: 1.2em;}#sk-container-id-27 div.sk-label-container {text-align: center;}#sk-container-id-27 div.sk-container {/* jupyter's `normalize.less` sets `[hidden] { display: none; }` but bootstrap.min.css set `[hidden] { display: none !important; }` so we also need the `!important` here to be able to override the default hidden behavior on the sphinx rendered scikit-learn.org. See: https://github.com/scikit-learn/scikit-learn/issues/21755 */display: inline-block !important;position: relative;}#sk-container-id-27 div.sk-text-repr-fallback {display: none;}</style><div id=\"sk-container-id-27\" class=\"sk-top-container\"><div class=\"sk-text-repr-fallback\"><pre>CountVectorizer()</pre><b>In a Jupyter environment, please rerun this cell to show the HTML representation or trust the notebook. <br />On GitHub, the HTML representation is unable to render, please try loading this page with nbviewer.org.</b></div><div class=\"sk-container\" hidden><div class=\"sk-item\"><div class=\"sk-estimator sk-toggleable\"><input class=\"sk-toggleable__control sk-hidden--visually\" id=\"sk-estimator-id-27\" type=\"checkbox\" checked><label for=\"sk-estimator-id-27\" class=\"sk-toggleable__label sk-toggleable__label-arrow\">CountVectorizer</label><div class=\"sk-toggleable__content\"><pre>CountVectorizer()</pre></div></div></div></div></div>"
     },
     "execution_count": 475,
     "metadata": {},
     "output_type": "execute_result"
    }
   ],
   "source": [
    "\n",
    "# Bag of Words representation\n",
    "vectorizer = CountVectorizer()\n",
    "vectorizer.fit(text_train)\n"
   ],
   "metadata": {
    "collapsed": false,
    "ExecuteTime": {
     "end_time": "2023-12-15T10:46:49.184393Z",
     "start_time": "2023-12-15T10:46:49.088916Z"
    }
   },
   "id": "9c07bac38317ade0"
  },
  {
   "cell_type": "code",
   "execution_count": 476,
   "outputs": [
    {
     "name": "stdout",
     "output_type": "stream",
     "text": [
      "Содержимое словаря:\n",
      "{'продукт': 133, 'превзошел': 128, 'мои': 68, 'ожидания': 92, 'очень': 110, 'рекомендую': 143, 'плохое': 113, 'качество': 58, 'переоценено': 111, 'не': 75, 'стоит': 160, 'своих': 149, 'денег': 27, 'фантастическое': 174, 'обслуживание': 87, 'молниеносная': 71, 'доставка': 34, 'разочаровывающий': 139, 'опыт': 99, 'товар': 164, 'соответствовал': 156, 'описанию': 96, 'восторге': 15, 'от': 101, 'этого': 185, 'продукта': 134, 'удивительное': 168, 'дизайн': 29, 'ужасное': 171, 'клиентов': 61, 'они': 95, 'реагировали': 141, 'на': 73, 'запросы': 46, 'отличное': 107, 'соотношение': 158, 'цены': 179, 'качества': 56, 'довольный': 32, 'клиент': 60, 'заняла': 45, 'больше': 1, 'времени': 17, 'чем': 180, 'ожидалось': 90, 'но': 86, 'хороший': 177, 'худшая': 178, 'покупка': 118, 'сожалею': 155, 'что': 182, 'купил': 64, 'это': 184, 'команда': 62, 'поддержки': 116, 'была': 5, 'полезной': 122, 'быстро': 8, 'решила': 146, 'мою': 72, 'проблему': 131, 'впечатляющий': 16, 'сделало': 151, 'жизнь': 40, 'намного': 74, 'проще': 136, 'бы': 3, 'рекомендовал': 142, 'этот': 187, 'никому': 83, 'разочарован': 138, 'быстрая': 7, 'был': 4, 'именно': 51, 'таким': 162, 'как': 55, 'описано': 97, 'абсолютно': 0, 'ужасно': 170, 'сломался': 152, 'через': 181, 'неделю': 76, 'использования': 54, 'выдающееся': 24, 'обязательно': 89, 'вернусь': 11, 'инструкции': 52, 'были': 6, 'неясными': 79, 'сборку': 147, 'трудной': 167, 'исключительное': 53, 'вышли': 25, 'за': 41, 'рамки': 140, 'чтобы': 183, 'мне': 67, 'помочь': 125, 'доволен': 31, 'покупкой': 121, 'пришел': 129, 'поврежденным': 115, 'своим': 148, 'заказом': 42, 'буду': 2, 'покупать': 117, 'них': 85, 'снова': 154, 'избегайте': 48, 'во': 12, 'всех': 21, 'отношениях': 109, 'полная': 123, 'трата': 166, 'отличный': 108, 'спасибо': 159, 'сделали': 150, 'такой': 163, 'качественный': 57, 'изделия': 49, 'никакого': 81, 'ответа': 102, 'службы': 153, 'доставили': 33, 'вовремя': 13, 'полностью': 124, 'соответствует': 157, 'отзывчивая': 106, 'моим': 69, 'ожиданиям': 93, 'товара': 165, 'ужасный': 172, 'дефектом': 28, 'неисправностью': 77, 'просто': 135, 'великолепен': 10, 'всем': 20, 'потраченных': 126, 'оставляет': 100, 'желать': 39, 'лучшего': 66, 'успешной': 173, 'выбором': 22, 'он': 94, 'выглядит': 23, 'так': 161, 'отвратительное': 105, 'никто': 84, 'отвечает': 104, 'вопросы': 14, 'быструю': 9, 'доставку': 36, 'потрясающий': 127, 'плохой': 114, 'покупки': 120, 'неисправным': 78, 'низкое': 80, 'хорошее': 176, 'для': 30, 'замечательное': 44, 'решают': 145, 'все': 18, 'оправдал': 98, 'моих': 70, 'ожиданий': 91, 'приятно': 130, 'удивлен': 169, 'качеством': 59, 'покупке': 119, 'проблемы': 132, 'доставкой': 35, 'звонки': 47, 'письма': 112, 'его': 37, 'функционала': 175, 'никогда': 82, 'куплю': 65, 'этой': 186, 'компании': 63, 'изображениям': 50, 'всегда': 19, 'готовы': 26, 'ответить': 103, 'работает': 137, 'заказывать': 43, 'еще': 38, 'обслуживания': 88, 'решает': 144}\n"
     ]
    }
   ],
   "source": [
    "# Print the vocabulary (dictionary)\n",
    "print(\"Содержимое словаря:\")\n",
    "print(vectorizer.vocabulary_)"
   ],
   "metadata": {
    "collapsed": false,
    "ExecuteTime": {
     "end_time": "2023-12-15T10:46:49.184667Z",
     "start_time": "2023-12-15T10:46:49.093160Z"
    }
   },
   "id": "52e013ffe5add9ef"
  },
  {
   "cell_type": "code",
   "execution_count": 477,
   "outputs": [
    {
     "name": "stdout",
     "output_type": "stream",
     "text": [
      "Длина словаря: 188\n"
     ]
    }
   ],
   "source": [
    "print('Длина словаря: {}'.format(len(vectorizer.vocabulary_)))"
   ],
   "metadata": {
    "collapsed": false,
    "ExecuteTime": {
     "end_time": "2023-12-15T10:46:49.184762Z",
     "start_time": "2023-12-15T10:46:49.097269Z"
    }
   },
   "id": "4ce7a39f2ebb924c"
  },
  {
   "cell_type": "markdown",
   "source": [
    "Данные представляют собой словарь, сгенерированный с использованием метода `CountVectorizer` для переведенных на русский язык обзоров продуктов. Каждому уникальному слову в корпусе обзоров присвоен свой уникальный индекс в этом словаре. Ключами словаря являются слова, а значениями — соответствующие индексы.\n",
    "\n",
    "Пример:\n",
    "- Слово \"продукт\" имеет индекс 76.\n",
    "- Слово \"превзошел\" имеет индекс 73.\n",
    "- И так далее для других слов в обзорах.\n",
    "\n",
    "Этот словарь может быть использован для представления обзоров в виде векторов признаков, где каждый элемент вектора представляет собой количество вхождений соответствующего слова в соответствующем обзоре. Это полезно для последующего анализа тональности текста, выявления ключевых слов и других задач обработки текста."
   ],
   "metadata": {
    "collapsed": false
   },
   "id": "e930765f1869a19a"
  },
  {
   "cell_type": "code",
   "execution_count": 478,
   "outputs": [
    {
     "name": "stdout",
     "output_type": "stream",
     "text": [
      "bag_of_words <50x188 sparse matrix of type '<class 'numpy.int64'>'\n",
      "\twith 350 stored elements in Compressed Sparse Row format>\n"
     ]
    }
   ],
   "source": [
    "X_train = vectorizer.transform(text_train)\n",
    "print(\"bag_of_words {}\".format(repr(X_train)))"
   ],
   "metadata": {
    "collapsed": false,
    "ExecuteTime": {
     "end_time": "2023-12-15T10:46:49.185013Z",
     "start_time": "2023-12-15T10:46:49.100406Z"
    }
   },
   "id": "f80886a483571eb9"
  },
  {
   "cell_type": "code",
   "execution_count": 479,
   "outputs": [
    {
     "name": "stdout",
     "output_type": "stream",
     "text": [
      "188\n"
     ]
    }
   ],
   "source": [
    "feature_names = vectorizer.get_feature_names_out()\n",
    "print(len(feature_names))"
   ],
   "metadata": {
    "collapsed": false,
    "ExecuteTime": {
     "end_time": "2023-12-15T10:46:49.185100Z",
     "start_time": "2023-12-15T10:46:49.103378Z"
    }
   },
   "id": "869d82abcc3ecdf8"
  },
  {
   "cell_type": "code",
   "execution_count": 480,
   "outputs": [],
   "source": [
    "y_test = target "
   ],
   "metadata": {
    "collapsed": false,
    "ExecuteTime": {
     "end_time": "2023-12-15T10:46:49.185150Z",
     "start_time": "2023-12-15T10:46:49.106340Z"
    }
   },
   "id": "18ce4b5e9278d1d1"
  },
  {
   "cell_type": "code",
   "execution_count": 481,
   "outputs": [
    {
     "name": "stdout",
     "output_type": "stream",
     "text": [
      "Средняя правильность 0.64\n"
     ]
    }
   ],
   "source": [
    "from sklearn.model_selection import cross_val_score\n",
    "from sklearn.linear_model import LogisticRegression\n",
    "scores = cross_val_score(LogisticRegression(), X_train, y_train, cv=5)\n",
    "print(\"Средняя правильность {:.2f}\".format(np.mean(scores)))"
   ],
   "metadata": {
    "collapsed": false,
    "ExecuteTime": {
     "end_time": "2023-12-15T10:46:49.185511Z",
     "start_time": "2023-12-15T10:46:49.110722Z"
    }
   },
   "id": "d54a761edc9df255"
  },
  {
   "cell_type": "code",
   "execution_count": 482,
   "outputs": [
    {
     "name": "stdout",
     "output_type": "stream",
     "text": [
      "Наилучшее значение перекрестной проверки 0.64\n",
      "Наилучшие параметры {'C': 1}\n"
     ]
    }
   ],
   "source": [
    "from sklearn.model_selection import GridSearchCV\n",
    "param_grid = {'C':[0.001, 0.01, 0.1, 1,10]}\n",
    "grid = GridSearchCV(LogisticRegression(max_iter=1000), param_grid, cv=5)\n",
    "grid.fit(X_train, y_train)\n",
    "print(\"Наилучшее значение перекрестной проверки {:.2f}\".format(grid.best_score_))\n",
    "print(\"Наилучшие параметры {}\".format(grid.best_params_))"
   ],
   "metadata": {
    "collapsed": false,
    "ExecuteTime": {
     "end_time": "2023-12-15T10:46:49.213815Z",
     "start_time": "2023-12-15T10:46:49.127346Z"
    }
   },
   "id": "15e79af0c7c9f3b8"
  },
  {
   "cell_type": "markdown",
   "source": [],
   "metadata": {
    "collapsed": false
   },
   "id": "3e5afe1d79bb8770"
  },
  {
   "cell_type": "code",
   "execution_count": 483,
   "outputs": [
    {
     "name": "stdout",
     "output_type": "stream",
     "text": [
      "Количество стоп-слов 94\n",
      "Первые 20 стоп-слов: ['и', 'в', 'не', 'с', 'на', 'а', 'что', 'как', 'это', 'к', 'но', 'я', 'у', 'так', 'же', 'от', 'за', 'для', 'по', 'или']\n"
     ]
    }
   ],
   "source": [
    "custom_stop_words = [\n",
    "    \"и\", \"в\", \"не\", \"с\", \"на\", \"а\", \"что\", \"как\", \"это\", \n",
    "    \"к\", \"но\", \"я\", \"у\", \"так\", \"же\", \"от\", \"за\", \"для\", \"по\", \"или\",\n",
    "    \"нет\", \"бы\", \"мы\", \"вы\", \"он\", \"она\", \"они\", \"о\", \"со\", \"когда\", \n",
    "    \"где\", \"все\", \"всё\", \"если\", \"уже\", \"был\", \"была\", \"были\", \"там\", \n",
    "    \"туда\", \"сюда\", \"тут\", \"тоже\", \"теперь\", \"только\", \"меня\", \"тебя\", \n",
    "    \"него\", \"нее\", \"них\", \"мне\", \"тебе\", \"ему\", \"ей\", \"нам\", \"вам\", \n",
    "    \"им\", \"всем\", \"всеми\", \"весь\", \"всём\", \"всей\", \"всех\", \"перед\", \n",
    "    \"после\", \"под\", \"над\", \"до\", \"при\", \"через\", \"между\", \"наконец\", \n",
    "    \"именно\", \"вот\", \"здесь\", \"там\", \"также\", \"даже\", \"тогда\", \"теперь\",\n",
    "    \"больше\", \"меньше\", \"почти\", \"пока\", \"зато\", \"несмотря\", \"вместо\", \n",
    "    \"из-за\", \"вследствие\", \"благодаря\", \"неизвестно\", \"смотря\", \"поскольку\",\n",
    "    \"из\"\n",
    "]\n",
    "print(\"Количество стоп-слов {}\".format(len(custom_stop_words)))\n",
    "print(\"Первые 20 стоп-слов: {}\".format(custom_stop_words[:20]))\n"
   ],
   "metadata": {
    "collapsed": false,
    "ExecuteTime": {
     "end_time": "2023-12-15T10:46:49.216511Z",
     "start_time": "2023-12-15T10:46:49.191305Z"
    }
   },
   "id": "8c47fe524f5c2f0b"
  },
  {
   "cell_type": "code",
   "execution_count": 484,
   "outputs": [
    {
     "name": "stdout",
     "output_type": "stream",
     "text": [
      "X_train с использованием стоп-слов <50x9 sparse matrix of type '<class 'numpy.int64'>'\n",
      "\twith 71 stored elements in Compressed Sparse Row format>\n"
     ]
    }
   ],
   "source": [
    "vectorizer = CountVectorizer(min_df=5, stop_words=custom_stop_words).fit(text_train)\n",
    "X_train = vectorizer.transform(text_train)\n",
    "print(\"X_train с использованием стоп-слов {}\".format(repr(X_train)))"
   ],
   "metadata": {
    "collapsed": false,
    "ExecuteTime": {
     "end_time": "2023-12-15T10:46:49.217192Z",
     "start_time": "2023-12-15T10:46:49.197564Z"
    }
   },
   "id": "d5832c06812afa53"
  },
  {
   "cell_type": "code",
   "execution_count": 485,
   "outputs": [
    {
     "name": "stdout",
     "output_type": "stream",
     "text": [
      "X_train с использованием стоп-слов:\n",
      "<50x9 sparse matrix of type '<class 'numpy.int64'>'\n",
      "\twith 71 stored elements in Compressed Sparse Row format>\n",
      "Vocabulary size: 9\n",
      "Features: ['доставка' 'качество' 'клиентов' 'обслуживание' 'опыт' 'очень' 'продукт'\n",
      " 'рекомендую' 'товар']\n"
     ]
    }
   ],
   "source": [
    "from sklearn.feature_extraction.text import CountVectorizer\n",
    "\n",
    "# Assuming you have text_train and custom_stop_words defined\n",
    "vectorizer = CountVectorizer(min_df=5, stop_words=custom_stop_words)\n",
    "X_train = vectorizer.fit_transform(text_train)\n",
    "\n",
    "# Print some information\n",
    "print(\"X_train с использованием стоп-слов:\\n{}\".format(repr(X_train)))\n",
    "print(\"Vocabulary size: {}\".format(len(vectorizer.vocabulary_)))\n",
    "print(\"Features: {}\".format(vectorizer.get_feature_names_out()))"
   ],
   "metadata": {
    "collapsed": false,
    "ExecuteTime": {
     "end_time": "2023-12-15T10:46:49.285614Z",
     "start_time": "2023-12-15T10:46:49.202235Z"
    }
   },
   "id": "585925d20dc36f29"
  },
  {
   "cell_type": "code",
   "execution_count": 486,
   "outputs": [
    {
     "name": "stdout",
     "output_type": "stream",
     "text": [
      "Наилучшее значение перекрестной проверки 0.54\n"
     ]
    }
   ],
   "source": [
    "grid =  GridSearchCV(LogisticRegression(),param_grid, cv=5)\n",
    "grid.fit(X_train, y_train)\n",
    "print(\"Наилучшее значение перекрестной проверки {}\".format(grid.best_score_))   "
   ],
   "metadata": {
    "collapsed": false,
    "ExecuteTime": {
     "end_time": "2023-12-15T10:46:49.300074Z",
     "start_time": "2023-12-15T10:46:49.206074Z"
    }
   },
   "id": "a765adfb931121ba"
  },
  {
   "cell_type": "code",
   "execution_count": 487,
   "outputs": [
    {
     "name": "stdout",
     "output_type": "stream",
     "text": [
      "Наилучшее значение перекрестной проверки: 0.68\n"
     ]
    }
   ],
   "source": [
    "from sklearn.feature_extraction.text import TfidfVectorizer\n",
    "from sklearn.svm import SVC, LinearSVC\n",
    "from sklearn.model_selection import GridSearchCV\n",
    "from sklearn.pipeline import make_pipeline\n",
    "\n",
    "# Increase max_iter and remove norm=None\n",
    "pipe = make_pipeline(TfidfVectorizer(min_df=5), LinearSVC(max_iter=100000, dual=True))\n",
    "param_grid = {\"linearsvc__C\" : [0.001, 0.01, 0.1, 1, 10, 100, 1000]}\n",
    "grid = GridSearchCV(pipe, param_grid, cv=5)\n",
    "grid.fit(text_train, y_train)\n",
    "print(\"Наилучшее значение перекрестной проверки: {:.2f}\".format(grid.best_score_))\n"
   ],
   "metadata": {
    "collapsed": false,
    "ExecuteTime": {
     "end_time": "2023-12-15T10:46:49.713021Z",
     "start_time": "2023-12-15T10:46:49.257503Z"
    }
   },
   "id": "654c956d2acf6219"
  },
  {
   "cell_type": "code",
   "execution_count": 488,
   "outputs": [
    {
     "name": "stdout",
     "output_type": "stream",
     "text": [
      "['tfidfvectorizer', 'linearsvc']\n"
     ]
    }
   ],
   "source": [
    "# Print the names of all steps in the pipeline\n",
    "step_names = [step[0] for step in grid.best_estimator_.steps]\n",
    "print(step_names)\n"
   ],
   "metadata": {
    "collapsed": false,
    "ExecuteTime": {
     "end_time": "2023-12-15T10:46:49.717555Z",
     "start_time": "2023-12-15T10:46:49.714196Z"
    }
   },
   "id": "88a4ece9a945f3f0"
  },
  {
   "cell_type": "code",
   "execution_count": 489,
   "outputs": [
    {
     "name": "stdout",
     "output_type": "stream",
     "text": [
      "Shape of coefficients: (10,)\n",
      "Shape of feature names: 188\n"
     ]
    }
   ],
   "source": [
    "import mglearn\n",
    "import matplotlib.pyplot as plt\n",
    "\n",
    "# Access the LinearSVC model from the pipeline\n",
    "linear_svc_model = grid.best_estimator_.named_steps['linearsvc']\n",
    "\n",
    "# Get the coefficients and feature names\n",
    "coefficients = linear_svc_model.coef_.ravel()\n",
    "\n",
    "# Print the shapes of coefficients and feature names\n",
    "print(\"Shape of coefficients:\", coefficients.shape)\n",
    "print(\"Shape of feature names:\", len(feature_names))\n"
   ],
   "metadata": {
    "collapsed": false,
    "ExecuteTime": {
     "end_time": "2023-12-15T10:46:49.721231Z",
     "start_time": "2023-12-15T10:46:49.718631Z"
    }
   },
   "id": "de53c2606e9ad3d"
  },
  {
   "cell_type": "code",
   "execution_count": 490,
   "outputs": [
    {
     "data": {
      "text/plain": "<Figure size 1500x500 with 1 Axes>",
      "image/png": "[encoded data removed]"
     },
     "metadata": {},
     "output_type": "display_data"
    }
   ],
   "source": [
    "import  mglearn\n",
    "mglearn.tools.visualize_coefficients(grid.best_estimator_.named_steps['linearsvc'].coef_, feature_names[:10], n_top_features=10)"
   ],
   "metadata": {
    "collapsed": false,
    "ExecuteTime": {
     "end_time": "2023-12-15T10:46:49.851958Z",
     "start_time": "2023-12-15T10:46:49.757513Z"
    }
   },
   "id": "28328353f6ce4be6"
  },
  {
   "cell_type": "markdown",
   "source": [
    "**Выводы**\n",
    "\n",
    "В рамках выполнения данной задачи я проанализировал отзывы, применяя методы машинного обучения. Исходные текстовые данные были подвергнуты предварительной обработке и преобразованы в числовые признаки при использовании как CountVectorizer, так и TfidfVectorizer.\n",
    "\n",
    "В процессе обучения модели Logistic Regression я выявил среднюю точность около 0.64, что свидетельствует о хорошей предсказательной способности данной модели. Применение GridSearchCV для подбора оптимальных гиперпараметров позволило достичь максимальной средней точности, равной 0.64.\n",
    "\n",
    "Дополнительно, я исследовал воздействие стоп-слов на размер словаря и количество признаков. Применение TfidfVectorizer с моделью LinearSVC показало некоторое снижение эффективности, что может потребовать дополнительного исследования.\n",
    "\n",
    "Визуализация коэффициентов модели LinearSVC с использованием библиотеки mglearn детально рассмотрела влияние различных признаков на результаты модели."
   ],
   "metadata": {
    "collapsed": false
   },
   "id": "14e17b8749ca385c"
  },
  {
   "cell_type": "code",
   "execution_count": 490,
   "outputs": [],
   "source": [],
   "metadata": {
    "collapsed": false,
    "ExecuteTime": {
     "end_time": "2023-12-15T10:46:49.855473Z",
     "start_time": "2023-12-15T10:46:49.850102Z"
    }
   },
   "id": "bfc23054233af5"
  }
 ],
 "metadata": {
  "kernelspec": {
   "display_name": "Python 3",
   "language": "python",
   "name": "python3"
  },
  "language_info": {
   "codemirror_mode": {
    "name": "ipython",
    "version": 2
   },
   "file_extension": ".py",
   "mimetype": "text/x-python",
   "name": "python",
   "nbconvert_exporter": "python",
   "pygments_lexer": "ipython2",
   "version": "2.7.6"
  }
 },
 "nbformat": 4,
 "nbformat_minor": 5
}
